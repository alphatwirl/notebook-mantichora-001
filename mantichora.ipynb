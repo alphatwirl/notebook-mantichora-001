{
 "cells": [
  {
   "cell_type": "markdown",
   "metadata": {},
   "source": [
    "# [Mantichora](https://github.com/alphatwirl/mantichora)\n",
    "\n",
    "A simple interface to _multiprocessing_\n",
    "\n",
    "Tai Sakuma\n",
    "\n",
    "_Mantichora_ provides a simple interface to\n",
    "[_multiprocessing_](https://docs.python.org/3/library/multiprocessing.html).\n",
    "You can simply give it as many functions as you need to run.\n",
    "Mantichora will run them concurrently in background processes by using\n",
    "multiprocessing and give you the return values of the functions. The\n",
    "return values are sorted in the order of the functions you have\n",
    "originally given to Mantichora. Progress bars from\n",
    "[atpbar](https://github.com/alphatwirl/atpbar) can be used in the\n",
    "functions.\n",
    "\n",
    "The code in this package was originally developed in the sub-package\n",
    "[_concurrently_](https://github.com/alphatwirl/alphatwirl/tree/v0.23.2/alphatwirl/concurrently)\n",
    "of [_alphatwirl_](https://github.com/alphatwirl/alphatwirl).\n",
    "\n",
    "*****\n",
    "\n",
    "- **GitHub:** https://github.com/alphatwirl/mantichora\n",
    "- **PyPI:** https://pypi.org/project/mantichora/\n",
    "\n",
    "*****\n",
    "\n",
    "- [**Quick start**](#Quick-start)\n",
    "    - [Import libraries](#Import-libraries)\n",
    "    - [Define a task function](#Define-a-task-function)\n",
    "    - [Run tasks concurrently with Mantichora](#Run-tasks-concurrently-with-Mantichora)\n",
    "- [**License**](#License)\n",
    "- [**Contact**](#Contact)\n",
    "\n",
    "\n",
    "*****\n",
    "## Quick start\n",
    "\n",
    "I will show here how to use Mantichora by simple examples.\n",
    "\n",
    "### Import libraries\n",
    "\n",
    "We are going use two python standard libraries\n",
    "[time](https://docs.python.org/3/library/time.html) and\n",
    "[random](https://docs.python.org/3/library/random.html) in an example\n",
    "task function. In the example task function, we are also going to use\n",
    "[atpbar](https://github.com/alphatwirl/atpbar) for progress bars.\n",
    "Import these packages and `mantichora`.\n",
    "\n",
    "\n"
   ]
  },
  {
   "cell_type": "code",
   "execution_count": null,
   "metadata": {},
   "outputs": [],
   "source": [
    "import time, random\n",
    "from atpbar import atpbar\n",
    "from mantichora import mantichora"
   ]
  },
  {
   "cell_type": "markdown",
   "metadata": {},
   "source": [
    "### Define a task function\n",
    "\n",
    "Let us define a simple task function."
   ]
  },
  {
   "cell_type": "code",
   "execution_count": null,
   "metadata": {},
   "outputs": [],
   "source": [
    "def task_loop(name, ret=None):\n",
    "    n = random.randint(1000, 100000)\n",
    "    for i in atpbar(range(n), name=name):\n",
    "        time.sleep(0.0001)\n",
    "    return ret"
   ]
  },
  {
   "cell_type": "markdown",
   "metadata": {},
   "source": [
    "The task in this function is to sleep for `0.0001` seconds as many\n",
    "times as the number randomly selected from between `10000` and\n",
    "`100000`. `atpbar` is used to show a progress bar. The function takes\n",
    "two arguments: `name`, the label on the progress bar, and `ret`, the\n",
    "return value of the function.\n",
    "\n",
    "**Note:** Mantichora uses\n",
    "[multiprocessing](https://docs.python.org/3/library/multiprocessing.html)\n",
    "to run task functions in background processes . As a result, task\n",
    "functions, their arguments, and their return values need to be\n",
    "[picklable](https://docs.python.org/3.6/library/pickle.html#what-can-be-pickled-and-unpickled).\n",
    "\n",
    "You can just try running this functions without using Mantichora. The next cell won't return immediately. It will wait for the function to finish. You will see a progress bar."
   ]
  },
  {
   "cell_type": "code",
   "execution_count": null,
   "metadata": {},
   "outputs": [],
   "source": [
    "task_loop('task1', 'result1')"
   ]
  },
  {
   "cell_type": "markdown",
   "metadata": {},
   "source": [
    "### Run tasks concurrently with Mantichora\n",
    "\n",
    "Now, we run multiple tasks concurrently with Mantichora. Progress bars will be shown by `atpbar`."
   ]
  },
  {
   "cell_type": "code",
   "execution_count": null,
   "metadata": {},
   "outputs": [],
   "source": [
    "with mantichora(nworkers=3) as mcore:\n",
    "    mcore.run(task_loop, 'task', ret='result1')\n",
    "    mcore.run(task_loop, 'another task', ret='result2')\n",
    "    mcore.run(task_loop, 'still another task', ret='result3')\n",
    "    mcore.run(task_loop, 'yet another task', ret='result4')\n",
    "    mcore.run(task_loop, 'task again', ret='result5')\n",
    "    mcore.run(task_loop, 'more task', ret='result6')\n",
    "    results = mcore.returns()"
   ]
  },
  {
   "cell_type": "markdown",
   "metadata": {},
   "source": [
    "In the above cell, `mantichora` is initialized with an\n",
    "optional argument `nworkers`. The `nworkers` specifies the number of\n",
    "the workers. It is `3` in the above example. The default is `4`. At\n",
    "most as many tasks as `nworkers` can run concurrently.\n",
    "\n",
    "The [`with`\n",
    "statement](https://docs.python.org/3/reference/compound_stmts.html#the-with-statement)\n",
    "is used in the example. This ensures that `mantichora` properly\n",
    "ends the workers.\n",
    "\n",
    "You can give task functions and their arguments to `mcore.run()`. You\n",
    "can call `mcore.run()` as many times as you need. In the above\n",
    "example, `mcore.run()` is called with the same task function with\n",
    "different arguments. You can also use a different function each time.\n",
    "`mcore.run()` returns immediately; it doesn't wait for the task to\n",
    "finish or event to start. In each call, `mcore.run()` only puts a task in\n",
    "a queue. The workers in background processes pick up tasks from the\n",
    "queue and run them.\n",
    "\n",
    "The `mcore.returns()` waits until all tasks finish and returns their\n",
    "return values, which are sorted in the order of the tasks you have\n",
    "originally give to `mcore.run()` regardless of the order\n",
    "in which the tasks have finished."
   ]
  },
  {
   "cell_type": "code",
   "execution_count": null,
   "metadata": {},
   "outputs": [],
   "source": [
    "results"
   ]
  },
  {
   "cell_type": "markdown",
   "metadata": {},
   "source": [
    "*****\n",
    "\n",
    "## License\n",
    "\n",
    "- Mantichora is licensed under the BSD license.\n",
    "\n",
    "*****\n",
    "\n",
    "## Contact\n",
    "\n",
    "- Tai Sakuma - tai.sakuma@gmail.com"
   ]
  },
  {
   "cell_type": "code",
   "execution_count": null,
   "metadata": {},
   "outputs": [],
   "source": []
  }
 ],
 "metadata": {
  "kernelspec": {
   "display_name": "Python 3",
   "language": "python",
   "name": "python3"
  },
  "language_info": {
   "codemirror_mode": {
    "name": "ipython",
    "version": 3
   },
   "file_extension": ".py",
   "mimetype": "text/x-python",
   "name": "python",
   "nbconvert_exporter": "python",
   "pygments_lexer": "ipython3",
   "version": "3.6.7"
  }
 },
 "nbformat": 4,
 "nbformat_minor": 2
}
